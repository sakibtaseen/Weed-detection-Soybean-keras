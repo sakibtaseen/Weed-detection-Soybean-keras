{
 "cells": [
  {
   "cell_type": "code",
   "execution_count": 1,
   "metadata": {},
   "outputs": [
    {
     "name": "stderr",
     "output_type": "stream",
     "text": [
      "Using TensorFlow backend.\n",
      "D:\\Users\\Taseen-PC\\Miniconda3\\lib\\site-packages\\tensorflow\\python\\framework\\dtypes.py:526: FutureWarning: Passing (type, 1) or '1type' as a synonym of type is deprecated; in a future version of numpy, it will be understood as (type, (1,)) / '(1,)type'.\n",
      "  _np_qint8 = np.dtype([(\"qint8\", np.int8, 1)])\n",
      "D:\\Users\\Taseen-PC\\Miniconda3\\lib\\site-packages\\tensorflow\\python\\framework\\dtypes.py:527: FutureWarning: Passing (type, 1) or '1type' as a synonym of type is deprecated; in a future version of numpy, it will be understood as (type, (1,)) / '(1,)type'.\n",
      "  _np_quint8 = np.dtype([(\"quint8\", np.uint8, 1)])\n",
      "D:\\Users\\Taseen-PC\\Miniconda3\\lib\\site-packages\\tensorflow\\python\\framework\\dtypes.py:528: FutureWarning: Passing (type, 1) or '1type' as a synonym of type is deprecated; in a future version of numpy, it will be understood as (type, (1,)) / '(1,)type'.\n",
      "  _np_qint16 = np.dtype([(\"qint16\", np.int16, 1)])\n",
      "D:\\Users\\Taseen-PC\\Miniconda3\\lib\\site-packages\\tensorflow\\python\\framework\\dtypes.py:529: FutureWarning: Passing (type, 1) or '1type' as a synonym of type is deprecated; in a future version of numpy, it will be understood as (type, (1,)) / '(1,)type'.\n",
      "  _np_quint16 = np.dtype([(\"quint16\", np.uint16, 1)])\n",
      "D:\\Users\\Taseen-PC\\Miniconda3\\lib\\site-packages\\tensorflow\\python\\framework\\dtypes.py:530: FutureWarning: Passing (type, 1) or '1type' as a synonym of type is deprecated; in a future version of numpy, it will be understood as (type, (1,)) / '(1,)type'.\n",
      "  _np_qint32 = np.dtype([(\"qint32\", np.int32, 1)])\n",
      "D:\\Users\\Taseen-PC\\Miniconda3\\lib\\site-packages\\tensorflow\\python\\framework\\dtypes.py:535: FutureWarning: Passing (type, 1) or '1type' as a synonym of type is deprecated; in a future version of numpy, it will be understood as (type, (1,)) / '(1,)type'.\n",
      "  np_resource = np.dtype([(\"resource\", np.ubyte, 1)])\n"
     ]
    }
   ],
   "source": [
    "import os\n",
    "import numpy as np\n",
    "import matplotlib.pyplot as plt\n",
    "import pandas as pd\n",
    "import cv2\n",
    "from sklearn.metrics import accuracy_score\n",
    "from keras.models import Sequential\n",
    "import keras\n",
    "from keras.layers import Dense,Activation, Dropout\n",
    "from keras.losses import categorical_crossentropy"
   ]
  },
  {
   "cell_type": "code",
   "execution_count": 2,
   "metadata": {},
   "outputs": [
    {
     "data": {
      "text/plain": [
       "['.ipynb_checkpoints',\n",
       " 'neural-network-weed-detection-master',\n",
       " 'Weed detection Soybean keras.ipynb',\n",
       " 'Weed detection Soybean.ipynb',\n",
       " 'weed-detection-in-soybean-crops']"
      ]
     },
     "execution_count": 2,
     "metadata": {},
     "output_type": "execute_result"
    }
   ],
   "source": [
    "os.listdir('.')"
   ]
  },
  {
   "cell_type": "code",
   "execution_count": 3,
   "metadata": {},
   "outputs": [],
   "source": [
    "path = './weed-detection-in-soybean-crops'"
   ]
  },
  {
   "cell_type": "code",
   "execution_count": 4,
   "metadata": {},
   "outputs": [],
   "source": [
    "labels = {'broadleaf':0, 'grass':1, 'soil':2, 'soybean':3}"
   ]
  },
  {
   "cell_type": "code",
   "execution_count": 5,
   "metadata": {},
   "outputs": [],
   "source": [
    "files = []\n",
    "doc = {}\n",
    "for sub_dir in ['broadleaf', 'grass', 'soil', 'soybean']:\n",
    "    for file in os.listdir(os.path.join(path, sub_dir)):\n",
    "        image = cv2.imread(os.path.join(path, sub_dir, file))\n",
    "        image = cv2.resize(image, (100,100))\n",
    "        image = cv2.cvtColor(image, cv2.COLOR_BGR2RGB)\n",
    "        image = image.flatten()\n",
    "        doc = {'label': labels[sub_dir],'image': image}\n",
    "        files.append(doc)\n",
    "        \n",
    "img = pd.DataFrame(files, dtype='int')"
   ]
  },
  {
   "cell_type": "code",
   "execution_count": 6,
   "metadata": {},
   "outputs": [
    {
     "data": {
      "text/html": [
       "<div>\n",
       "<style scoped>\n",
       "    .dataframe tbody tr th:only-of-type {\n",
       "        vertical-align: middle;\n",
       "    }\n",
       "\n",
       "    .dataframe tbody tr th {\n",
       "        vertical-align: top;\n",
       "    }\n",
       "\n",
       "    .dataframe thead th {\n",
       "        text-align: right;\n",
       "    }\n",
       "</style>\n",
       "<table border=\"1\" class=\"dataframe\">\n",
       "  <thead>\n",
       "    <tr style=\"text-align: right;\">\n",
       "      <th></th>\n",
       "      <th>image</th>\n",
       "      <th>label</th>\n",
       "    </tr>\n",
       "  </thead>\n",
       "  <tbody>\n",
       "    <tr>\n",
       "      <th>0</th>\n",
       "      <td>[0, 0, 0, 0, 0, 0, 0, 0, 0, 0, 0, 0, 0, 0, 0, ...</td>\n",
       "      <td>0</td>\n",
       "    </tr>\n",
       "    <tr>\n",
       "      <th>1</th>\n",
       "      <td>[0, 0, 0, 0, 0, 0, 0, 0, 0, 0, 0, 0, 0, 0, 0, ...</td>\n",
       "      <td>0</td>\n",
       "    </tr>\n",
       "    <tr>\n",
       "      <th>2</th>\n",
       "      <td>[0, 0, 0, 0, 0, 0, 0, 0, 0, 0, 0, 0, 0, 0, 0, ...</td>\n",
       "      <td>0</td>\n",
       "    </tr>\n",
       "    <tr>\n",
       "      <th>3</th>\n",
       "      <td>[0, 0, 0, 0, 0, 0, 0, 0, 0, 0, 0, 0, 0, 0, 0, ...</td>\n",
       "      <td>0</td>\n",
       "    </tr>\n",
       "    <tr>\n",
       "      <th>4</th>\n",
       "      <td>[0, 0, 0, 0, 0, 0, 0, 0, 0, 0, 0, 0, 0, 0, 0, ...</td>\n",
       "      <td>0</td>\n",
       "    </tr>\n",
       "  </tbody>\n",
       "</table>\n",
       "</div>"
      ],
      "text/plain": [
       "                                               image  label\n",
       "0  [0, 0, 0, 0, 0, 0, 0, 0, 0, 0, 0, 0, 0, 0, 0, ...      0\n",
       "1  [0, 0, 0, 0, 0, 0, 0, 0, 0, 0, 0, 0, 0, 0, 0, ...      0\n",
       "2  [0, 0, 0, 0, 0, 0, 0, 0, 0, 0, 0, 0, 0, 0, 0, ...      0\n",
       "3  [0, 0, 0, 0, 0, 0, 0, 0, 0, 0, 0, 0, 0, 0, 0, ...      0\n",
       "4  [0, 0, 0, 0, 0, 0, 0, 0, 0, 0, 0, 0, 0, 0, 0, ...      0"
      ]
     },
     "execution_count": 6,
     "metadata": {},
     "output_type": "execute_result"
    }
   ],
   "source": [
    "img.head(5)"
   ]
  },
  {
   "cell_type": "code",
   "execution_count": 7,
   "metadata": {},
   "outputs": [
    {
     "data": {
      "text/plain": [
       "array([0, 0, 0, ..., 0, 0, 0], dtype=uint8)"
      ]
     },
     "execution_count": 7,
     "metadata": {},
     "output_type": "execute_result"
    }
   ],
   "source": [
    "img['image'][0]"
   ]
  },
  {
   "cell_type": "code",
   "execution_count": 8,
   "metadata": {},
   "outputs": [
    {
     "name": "stdout",
     "output_type": "stream",
     "text": [
      "<class 'pandas.core.frame.DataFrame'>\n",
      "RangeIndex: 15336 entries, 0 to 15335\n",
      "Data columns (total 2 columns):\n",
      "image    15336 non-null object\n",
      "label    15336 non-null int32\n",
      "dtypes: int32(1), object(1)\n",
      "memory usage: 179.8+ KB\n"
     ]
    }
   ],
   "source": [
    "img.info()"
   ]
  },
  {
   "cell_type": "code",
   "execution_count": 9,
   "metadata": {},
   "outputs": [
    {
     "data": {
      "text/plain": [
       "(30000,)"
      ]
     },
     "execution_count": 9,
     "metadata": {},
     "output_type": "execute_result"
    }
   ],
   "source": [
    "img.loc[0, 'image'].shape"
   ]
  },
  {
   "cell_type": "code",
   "execution_count": 10,
   "metadata": {},
   "outputs": [
    {
     "data": {
      "text/plain": [
       "array([0, 1, 2, 3], dtype=int64)"
      ]
     },
     "execution_count": 10,
     "metadata": {},
     "output_type": "execute_result"
    }
   ],
   "source": [
    "img['label'].unique()"
   ]
  },
  {
   "cell_type": "code",
   "execution_count": 11,
   "metadata": {},
   "outputs": [
    {
     "data": {
      "text/plain": [
       "3    7376\n",
       "1    3520\n",
       "2    3249\n",
       "0    1191\n",
       "Name: label, dtype: int64"
      ]
     },
     "execution_count": 11,
     "metadata": {},
     "output_type": "execute_result"
    }
   ],
   "source": [
    "img['label'].value_counts()"
   ]
  },
  {
   "cell_type": "code",
   "execution_count": 12,
   "metadata": {},
   "outputs": [],
   "source": [
    "y = pd.get_dummies(img['label'])"
   ]
  },
  {
   "cell_type": "code",
   "execution_count": 13,
   "metadata": {
    "scrolled": true
   },
   "outputs": [],
   "source": [
    "y = y.values"
   ]
  },
  {
   "cell_type": "code",
   "execution_count": 14,
   "metadata": {},
   "outputs": [],
   "source": [
    "X = np.array([img['image'][i] for i in range(len(img))])"
   ]
  },
  {
   "cell_type": "code",
   "execution_count": 15,
   "metadata": {},
   "outputs": [
    {
     "data": {
      "text/plain": [
       "array([[1., 0., 0., 0.],\n",
       "       [1., 0., 0., 0.],\n",
       "       [1., 0., 0., 0.],\n",
       "       ...,\n",
       "       [0., 0., 0., 1.],\n",
       "       [0., 0., 0., 1.],\n",
       "       [0., 0., 0., 1.]])"
      ]
     },
     "execution_count": 15,
     "metadata": {},
     "output_type": "execute_result"
    }
   ],
   "source": [
    "y.astype(float)"
   ]
  },
  {
   "cell_type": "code",
   "execution_count": 16,
   "metadata": {},
   "outputs": [
    {
     "data": {
      "text/plain": [
       "array([[0, 0, 0, ..., 0, 0, 0],\n",
       "       [0, 0, 0, ..., 0, 0, 0],\n",
       "       [0, 0, 0, ..., 0, 0, 0],\n",
       "       ...,\n",
       "       [0, 0, 0, ..., 0, 0, 0],\n",
       "       [0, 0, 0, ..., 0, 0, 0],\n",
       "       [0, 0, 0, ..., 0, 0, 0]], dtype=uint8)"
      ]
     },
     "execution_count": 16,
     "metadata": {},
     "output_type": "execute_result"
    }
   ],
   "source": [
    "X"
   ]
  },
  {
   "cell_type": "code",
   "execution_count": 17,
   "metadata": {},
   "outputs": [
    {
     "data": {
      "text/plain": [
       "array([[0., 0., 0., ..., 0., 0., 0.],\n",
       "       [0., 0., 0., ..., 0., 0., 0.],\n",
       "       [0., 0., 0., ..., 0., 0., 0.],\n",
       "       ...,\n",
       "       [0., 0., 0., ..., 0., 0., 0.],\n",
       "       [0., 0., 0., ..., 0., 0., 0.],\n",
       "       [0., 0., 0., ..., 0., 0., 0.]])"
      ]
     },
     "execution_count": 17,
     "metadata": {},
     "output_type": "execute_result"
    }
   ],
   "source": [
    "X.astype(float)"
   ]
  },
  {
   "cell_type": "code",
   "execution_count": 18,
   "metadata": {},
   "outputs": [
    {
     "data": {
      "text/plain": [
       "(15336, 30000)"
      ]
     },
     "execution_count": 18,
     "metadata": {},
     "output_type": "execute_result"
    }
   ],
   "source": [
    "X.shape"
   ]
  },
  {
   "cell_type": "code",
   "execution_count": 19,
   "metadata": {},
   "outputs": [
    {
     "data": {
      "text/plain": [
       "(15336, 4)"
      ]
     },
     "execution_count": 19,
     "metadata": {},
     "output_type": "execute_result"
    }
   ],
   "source": [
    "y.shape"
   ]
  },
  {
   "cell_type": "code",
   "execution_count": 20,
   "metadata": {},
   "outputs": [],
   "source": [
    "from sklearn.model_selection import train_test_split"
   ]
  },
  {
   "cell_type": "code",
   "execution_count": 21,
   "metadata": {},
   "outputs": [],
   "source": [
    "X_train, X_test, y_train, y_test = train_test_split(X, y, test_size=0.3, random_state=120, shuffle=True, stratify=y)"
   ]
  },
  {
   "cell_type": "code",
   "execution_count": 22,
   "metadata": {},
   "outputs": [],
   "source": [
    "del X,y,img"
   ]
  },
  {
   "cell_type": "code",
   "execution_count": 23,
   "metadata": {},
   "outputs": [],
   "source": [
    "X_train = X_train/255\n",
    "X_test = X_test/255"
   ]
  },
  {
   "cell_type": "code",
   "execution_count": 24,
   "metadata": {},
   "outputs": [
    {
     "data": {
      "text/plain": [
       "<matplotlib.image.AxesImage at 0x17eda88ffd0>"
      ]
     },
     "execution_count": 24,
     "metadata": {},
     "output_type": "execute_result"
    },
    {
     "data": {
      "image/png": "[encoded data removed]",
      "text/plain": [
       "<Figure size 432x288 with 1 Axes>"
      ]
     },
     "metadata": {
      "needs_background": "light"
     },
     "output_type": "display_data"
    }
   ],
   "source": [
    "plt.imshow(X_train[3].reshape(100,100,3))"
   ]
  },
  {
   "cell_type": "code",
   "execution_count": 25,
   "metadata": {},
   "outputs": [
    {
     "name": "stdout",
     "output_type": "stream",
     "text": [
      "WARNING:tensorflow:From D:\\Users\\Taseen-PC\\Miniconda3\\lib\\site-packages\\tensorflow\\python\\framework\\op_def_library.py:263: colocate_with (from tensorflow.python.framework.ops) is deprecated and will be removed in a future version.\n",
      "Instructions for updating:\n",
      "Colocations handled automatically by placer.\n"
     ]
    }
   ],
   "source": [
    "model = Sequential()\n",
    "model.add(Dense(500, activation='sigmoid'))\n",
    "model.add(Dense(500, activation='sigmoid'))\n",
    "model.add(Dropout(0.5))\n",
    "model.add(Dense(4, activation='softmax'))\n",
    "\n",
    "model.compile(loss=categorical_crossentropy,\n",
    "              optimizer=keras.optimizers.Adam(),\n",
    "              metrics=['accuracy'])"
   ]
  },
  {
   "cell_type": "code",
   "execution_count": 26,
   "metadata": {},
   "outputs": [
    {
     "name": "stdout",
     "output_type": "stream",
     "text": [
      "WARNING:tensorflow:From D:\\Users\\Taseen-PC\\Miniconda3\\lib\\site-packages\\keras\\backend\\tensorflow_backend.py:3445: calling dropout (from tensorflow.python.ops.nn_ops) with keep_prob is deprecated and will be removed in a future version.\n",
      "Instructions for updating:\n",
      "Please use `rate` instead of `keep_prob`. Rate should be set to `rate = 1 - keep_prob`.\n",
      "WARNING:tensorflow:From D:\\Users\\Taseen-PC\\Miniconda3\\lib\\site-packages\\tensorflow\\python\\ops\\math_ops.py:3066: to_int32 (from tensorflow.python.ops.math_ops) is deprecated and will be removed in a future version.\n",
      "Instructions for updating:\n",
      "Use tf.cast instead.\n",
      "Train on 10735 samples, validate on 4601 samples\n",
      "Epoch 1/50\n",
      "10735/10735 [==============================] - 33s 3ms/step - loss: 1.0888 - acc: 0.5690 - val_loss: 0.7683 - val_acc: 0.6925\n",
      "Epoch 2/50\n",
      "10735/10735 [==============================] - 33s 3ms/step - loss: 0.7367 - acc: 0.7000 - val_loss: 0.6601 - val_acc: 0.7559\n",
      "Epoch 3/50\n",
      "10735/10735 [==============================] - 33s 3ms/step - loss: 0.6424 - acc: 0.7421 - val_loss: 0.5717 - val_acc: 0.8053\n",
      "Epoch 4/50\n",
      "10735/10735 [==============================] - 33s 3ms/step - loss: 0.5677 - acc: 0.7825 - val_loss: 0.5440 - val_acc: 0.7833\n",
      "Epoch 5/50\n",
      "10735/10735 [==============================] - 33s 3ms/step - loss: 0.5511 - acc: 0.7878 - val_loss: 0.5287 - val_acc: 0.8055\n",
      "Epoch 6/50\n",
      "10735/10735 [==============================] - 33s 3ms/step - loss: 0.5199 - acc: 0.8000 - val_loss: 0.4992 - val_acc: 0.8037\n",
      "Epoch 7/50\n",
      "10735/10735 [==============================] - 33s 3ms/step - loss: 0.5151 - acc: 0.8002 - val_loss: 0.4961 - val_acc: 0.8037\n",
      "Epoch 8/50\n",
      "10735/10735 [==============================] - 33s 3ms/step - loss: 0.5007 - acc: 0.8040 - val_loss: 0.4888 - val_acc: 0.8072\n",
      "Epoch 9/50\n",
      "10735/10735 [==============================] - 33s 3ms/step - loss: 0.4852 - acc: 0.8095 - val_loss: 0.5101 - val_acc: 0.8140\n",
      "Epoch 10/50\n",
      "10735/10735 [==============================] - 32s 3ms/step - loss: 0.4836 - acc: 0.8104 - val_loss: 0.4938 - val_acc: 0.8050\n",
      "Epoch 11/50\n",
      "10735/10735 [==============================] - 33s 3ms/step - loss: 0.4752 - acc: 0.8163 - val_loss: 0.4766 - val_acc: 0.8083\n",
      "Epoch 12/50\n",
      "10735/10735 [==============================] - 33s 3ms/step - loss: 0.4721 - acc: 0.8141 - val_loss: 0.5083 - val_acc: 0.7840\n",
      "Epoch 13/50\n",
      "10735/10735 [==============================] - 33s 3ms/step - loss: 0.4562 - acc: 0.8216 - val_loss: 0.4783 - val_acc: 0.8090\n",
      "Epoch 14/50\n",
      "10735/10735 [==============================] - 33s 3ms/step - loss: 0.4611 - acc: 0.8226 - val_loss: 0.4830 - val_acc: 0.8092\n",
      "Epoch 15/50\n",
      "10735/10735 [==============================] - 33s 3ms/step - loss: 0.4459 - acc: 0.8295 - val_loss: 0.5149 - val_acc: 0.7948\n",
      "Epoch 16/50\n",
      "10735/10735 [==============================] - 32s 3ms/step - loss: 0.4556 - acc: 0.8209 - val_loss: 0.4700 - val_acc: 0.8198\n",
      "Epoch 17/50\n",
      "10735/10735 [==============================] - 32s 3ms/step - loss: 0.4384 - acc: 0.8340 - val_loss: 0.4852 - val_acc: 0.8077\n",
      "Epoch 18/50\n",
      "10735/10735 [==============================] - 34s 3ms/step - loss: 0.4248 - acc: 0.8413 - val_loss: 0.5066 - val_acc: 0.8135\n",
      "Epoch 19/50\n",
      "10735/10735 [==============================] - 33s 3ms/step - loss: 0.4216 - acc: 0.8455 - val_loss: 0.5010 - val_acc: 0.8157\n",
      "Epoch 20/50\n",
      "10735/10735 [==============================] - 32s 3ms/step - loss: 0.4183 - acc: 0.8463 - val_loss: 0.4747 - val_acc: 0.8213\n",
      "Epoch 21/50\n",
      "10735/10735 [==============================] - 32s 3ms/step - loss: 0.4359 - acc: 0.8348 - val_loss: 0.4967 - val_acc: 0.8118\n",
      "Epoch 22/50\n",
      "10735/10735 [==============================] - 32s 3ms/step - loss: 0.4474 - acc: 0.8325 - val_loss: 0.4836 - val_acc: 0.8131\n",
      "Epoch 23/50\n",
      "10735/10735 [==============================] - 32s 3ms/step - loss: 0.4166 - acc: 0.8499 - val_loss: 0.4938 - val_acc: 0.8070\n",
      "Epoch 24/50\n",
      "10735/10735 [==============================] - 32s 3ms/step - loss: 0.4074 - acc: 0.8554 - val_loss: 0.4971 - val_acc: 0.8027\n",
      "Epoch 25/50\n",
      "10735/10735 [==============================] - 32s 3ms/step - loss: 0.4196 - acc: 0.8491 - val_loss: 0.4749 - val_acc: 0.8192\n",
      "Epoch 26/50\n",
      "10735/10735 [==============================] - 32s 3ms/step - loss: 0.3960 - acc: 0.8590 - val_loss: 0.4920 - val_acc: 0.8129\n",
      "Epoch 27/50\n",
      "10735/10735 [==============================] - 32s 3ms/step - loss: 0.3953 - acc: 0.8604 - val_loss: 0.4996 - val_acc: 0.8140\n",
      "Epoch 28/50\n",
      "10735/10735 [==============================] - 33s 3ms/step - loss: 0.3849 - acc: 0.8650 - val_loss: 0.4820 - val_acc: 0.8109\n",
      "Epoch 29/50\n",
      "10735/10735 [==============================] - 32s 3ms/step - loss: 0.4185 - acc: 0.8466 - val_loss: 0.5065 - val_acc: 0.8153\n",
      "Epoch 30/50\n",
      "10735/10735 [==============================] - 32s 3ms/step - loss: 0.3752 - acc: 0.8683 - val_loss: 0.5036 - val_acc: 0.8133\n",
      "Epoch 31/50\n",
      "10735/10735 [==============================] - 32s 3ms/step - loss: 0.3787 - acc: 0.8673 - val_loss: 0.4853 - val_acc: 0.8092\n",
      "Epoch 32/50\n",
      "10735/10735 [==============================] - 32s 3ms/step - loss: 0.4215 - acc: 0.8499 - val_loss: 0.5104 - val_acc: 0.8172\n",
      "Epoch 33/50\n",
      "10735/10735 [==============================] - 32s 3ms/step - loss: 0.3730 - acc: 0.8693 - val_loss: 0.5244 - val_acc: 0.8183\n",
      "Epoch 34/50\n",
      "10735/10735 [==============================] - 32s 3ms/step - loss: 0.3863 - acc: 0.8663 - val_loss: 0.4872 - val_acc: 0.8172\n",
      "Epoch 35/50\n",
      "10735/10735 [==============================] - 32s 3ms/step - loss: 0.3698 - acc: 0.8709 - val_loss: 0.5157 - val_acc: 0.8183\n",
      "Epoch 36/50\n",
      "10735/10735 [==============================] - 32s 3ms/step - loss: 0.3666 - acc: 0.8765 - val_loss: 0.4976 - val_acc: 0.8157\n",
      "Epoch 37/50\n",
      "10735/10735 [==============================] - 32s 3ms/step - loss: 0.3462 - acc: 0.8785 - val_loss: 0.4849 - val_acc: 0.8144\n",
      "Epoch 38/50\n",
      "10735/10735 [==============================] - 32s 3ms/step - loss: 0.3276 - acc: 0.8857 - val_loss: 0.5202 - val_acc: 0.8111\n",
      "Epoch 39/50\n",
      "10735/10735 [==============================] - 32s 3ms/step - loss: 0.3402 - acc: 0.8778 - val_loss: 0.5128 - val_acc: 0.8066\n",
      "Epoch 40/50\n",
      "10735/10735 [==============================] - 32s 3ms/step - loss: 0.3449 - acc: 0.8717 - val_loss: 0.6077 - val_acc: 0.7507\n",
      "Epoch 41/50\n",
      "10735/10735 [==============================] - 32s 3ms/step - loss: 0.3536 - acc: 0.8734 - val_loss: 0.4737 - val_acc: 0.8303\n",
      "Epoch 42/50\n",
      "10735/10735 [==============================] - 32s 3ms/step - loss: 0.3003 - acc: 0.8958 - val_loss: 0.5257 - val_acc: 0.8187\n",
      "Epoch 43/50\n",
      "10735/10735 [==============================] - 32s 3ms/step - loss: 0.3081 - acc: 0.8896 - val_loss: 0.4891 - val_acc: 0.8248\n",
      "Epoch 44/50\n",
      "10735/10735 [==============================] - 32s 3ms/step - loss: 0.2726 - acc: 0.9050 - val_loss: 0.5004 - val_acc: 0.8248\n",
      "Epoch 45/50\n",
      "10735/10735 [==============================] - 32s 3ms/step - loss: 0.2691 - acc: 0.9106 - val_loss: 0.4868 - val_acc: 0.8381\n",
      "Epoch 46/50\n",
      "10735/10735 [==============================] - 32s 3ms/step - loss: 0.2862 - acc: 0.9009 - val_loss: 0.5730 - val_acc: 0.8094\n",
      "Epoch 47/50\n",
      "10735/10735 [==============================] - 32s 3ms/step - loss: 0.2694 - acc: 0.9094 - val_loss: 0.4798 - val_acc: 0.8552\n",
      "Epoch 48/50\n",
      "10735/10735 [==============================] - 32s 3ms/step - loss: 0.2489 - acc: 0.9197 - val_loss: 0.5336 - val_acc: 0.8183\n",
      "Epoch 49/50\n",
      "10735/10735 [==============================] - 32s 3ms/step - loss: 0.2629 - acc: 0.9137 - val_loss: 0.5263 - val_acc: 0.8405\n",
      "Epoch 50/50\n",
      "10735/10735 [==============================] - 32s 3ms/step - loss: 0.2362 - acc: 0.9303 - val_loss: 0.5565 - val_acc: 0.8300\n"
     ]
    },
    {
     "data": {
      "text/plain": [
       "<keras.callbacks.History at 0x17edc9cb4e0>"
      ]
     },
     "execution_count": 26,
     "metadata": {},
     "output_type": "execute_result"
    }
   ],
   "source": [
    "model.fit(X_train, y_train, batch_size=100,\n",
    "          epochs=50,\n",
    "          verbose=1,\n",
    "          validation_data=(X_test, y_test))"
   ]
  },
  {
   "cell_type": "code",
   "execution_count": null,
   "metadata": {},
   "outputs": [],
   "source": []
  }
 ],
 "metadata": {
  "kernelspec": {
   "display_name": "Python 3",
   "language": "python",
   "name": "python3"
  },
  "language_info": {
   "codemirror_mode": {
    "name": "ipython",
    "version": 3
   },
   "file_extension": ".py",
   "mimetype": "text/x-python",
   "name": "python",
   "nbconvert_exporter": "python",
   "pygments_lexer": "ipython3",
   "version": "3.7.3"
  }
 },
 "nbformat": 4,
 "nbformat_minor": 2
}
